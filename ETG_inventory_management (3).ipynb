{
  "nbformat": 4,
  "nbformat_minor": 0,
  "metadata": {
    "colab": {
      "name": "ETG inventory management",
      "provenance": [],
      "collapsed_sections": []
    },
    "kernelspec": {
      "name": "python3",
      "display_name": "Python 3"
    },
    "language_info": {
      "name": "python"
    }
  },
  "cells": [
    {
      "cell_type": "code",
      "metadata": {
        "id": "C_GVyGKqJXnv"
      },
      "source": [
        "\n",
        "fd=open(\"record.json\",'r')\n",
        "r=fd.read()\n",
        "fd.close()"
      ],
      "execution_count": 8,
      "outputs": []
    },
    {
      "cell_type": "code",
      "metadata": {
        "id": "RwRyGqKDJ3mL"
      },
      "source": [
        "record=json.loads(r)"
      ],
      "execution_count": 9,
      "outputs": []
    },
    {
      "cell_type": "code",
      "metadata": {
        "colab": {
          "base_uri": "https://localhost:8080/"
        },
        "id": "oJ3QKXf1KIaW",
        "outputId": "4b1cd536-7fd9-4c4e-e402-7b9a5b349e09"
      },
      "source": [
        "prod_id=input(\"Enter product id:\")\n",
        "name=input(\"Enter product name:\")\n",
        "price=int(input(\"Enter the price:\"))\n",
        "quantity=int(input(\"Enter the quantity:\"))\n",
        "weight=int(input(\"Enter the weight of the product:\"))\n",
        "category=input(\"Enter product category:\")\n",
        "\n",
        "\n",
        "record[prod_id]={'name':name,'price':price,'quantity':quantity,'weight':weight,'category':category}\n",
        "js=json.dumps(record)\n",
        "fd=open(\"record.json\",'w')\n",
        "fd.write(js)\n",
        "fd.close()\n"
      ],
      "execution_count": 10,
      "outputs": [
        {
          "name": "stdout",
          "output_type": "stream",
          "text": [
            "Enter product id:1031\n",
            "Enter product name:hersheys\n",
            "Enter the price:35\n",
            "Enter the quantity:6\n",
            "Enter the weight of the product:380\n",
            "Enter product category:food\n"
          ]
        }
      ]
    },
    {
      "cell_type": "code",
      "metadata": {
        "colab": {
          "base_uri": "https://localhost:8080/"
        },
        "id": "wXq2RuwAMKe0",
        "outputId": "f64fd2cc-7db6-42ba-fdad-fe0161abc5d8"
      },
      "source": [
        "record"
      ],
      "execution_count": 11,
      "outputs": [
        {
          "output_type": "execute_result",
          "data": {
            "text/plain": [
              "{'1001': {'category': 'food',\n",
              "  'name': 'perk',\n",
              "  'price': 10,\n",
              "  'quantity': 100,\n",
              "  'weight': 13},\n",
              " '1002': {'50': 0,\n",
              "  'category': 'food',\n",
              "  'name': 'lays',\n",
              "  'price': 10,\n",
              "  'quantity': 0,\n",
              "  'weight': 167},\n",
              " '1003': {'2': 73,\n",
              "  'category': 'food',\n",
              "  'name': 'icecream',\n",
              "  'price': 200,\n",
              "  'quantity': 75,\n",
              "  'weight': 250},\n",
              " '1004': {'category': 'food',\n",
              "  'name': 'cupcake',\n",
              "  'price': 20,\n",
              "  'quantity': 85,\n",
              "  'weight': 30},\n",
              " '1005': {'5': 15,\n",
              "  'category': 'food',\n",
              "  'name': 'donuts',\n",
              "  'price': 40,\n",
              "  'quantity': 32,\n",
              "  'weight': 50},\n",
              " '1006': {'2': 48,\n",
              "  'category': 'food',\n",
              "  'name': 'coke',\n",
              "  'price': 30,\n",
              "  'quantity': 50,\n",
              "  'weight': 384},\n",
              " '1007': {'category': 'food',\n",
              "  'name': 'doritos',\n",
              "  'price': 30,\n",
              "  'quantity': 85,\n",
              "  'weight': 150},\n",
              " '1008': {'5': 92,\n",
              "  'category': 'food',\n",
              "  'name': 'kurkure',\n",
              "  'price': 20,\n",
              "  'quantity': 97,\n",
              "  'weight': 130},\n",
              " '1009': {'category': 'food',\n",
              "  'name': 'snickers',\n",
              "  'price': 30,\n",
              "  'quantity': 45,\n",
              "  'weight': 200},\n",
              " '1010': {'7': 48,\n",
              "  'category': 'food',\n",
              "  'name': 'hippo',\n",
              "  'price': 10,\n",
              "  'quantity': 55,\n",
              "  'weight': 125},\n",
              " '1011': {'category': 'food',\n",
              "  'name': 'pringles',\n",
              "  'price': 100,\n",
              "  'quantity': 40,\n",
              "  'weight': 300},\n",
              " '1012': {'category': 'food',\n",
              "  'name': 'kisses',\n",
              "  'price': 125,\n",
              "  'quantity': 80,\n",
              "  'weight': 50},\n",
              " '1013': {'category': 'food',\n",
              "  'name': 'kitkat',\n",
              "  'price': 50,\n",
              "  'quantity': 80,\n",
              "  'weight': 15},\n",
              " '1014': {'category': 'food',\n",
              "  'name': 'sprite',\n",
              "  'price': 120,\n",
              "  'quantity': 40,\n",
              "  'weight': 500},\n",
              " '1015': {'category': 'food',\n",
              "  'name': 'mountaindew',\n",
              "  'price': 45,\n",
              "  'quantity': 20,\n",
              "  'weight': 130},\n",
              " '1016': {'category': 'beauty',\n",
              "  'name': 'vaseline',\n",
              "  'price': 135,\n",
              "  'quantity': 40,\n",
              "  'weight': 125},\n",
              " '1017': {'3': 33,\n",
              "  'category': 'beauty',\n",
              "  'name': 'nivea',\n",
              "  'price': 170,\n",
              "  'quantity': 36,\n",
              "  'weight': 125},\n",
              " '1018': {'category': 'eauty',\n",
              "  'name': 'bodyshop',\n",
              "  'price': 600,\n",
              "  'quantity': 15,\n",
              "  'weight': 50},\n",
              " '1019': {'category': 'eauty',\n",
              "  'name': 'lipbalm',\n",
              "  'price': 120,\n",
              "  'quantity': 15,\n",
              "  'weight': 20},\n",
              " '1020': {'category': 'beauty',\n",
              "  'name': 'hairdye',\n",
              "  'price': 45,\n",
              "  'quantity': 95,\n",
              "  'weight': 30},\n",
              " '1021': {'category': 'beauty',\n",
              "  'name': 'oil',\n",
              "  'price': 90,\n",
              "  'quantity': 37,\n",
              "  'weight': 120},\n",
              " '1022': {'category': 'beauty',\n",
              "  'name': 'aloegel',\n",
              "  'price': 200,\n",
              "  'quantity': 15,\n",
              "  'weight': 230},\n",
              " '1023': {'category': 'beauty',\n",
              "  'name': 'deodrent',\n",
              "  'price': 250,\n",
              "  'quantity': 40,\n",
              "  'weight': 150},\n",
              " '1024': {'category': 'beauty',\n",
              "  'name': 'dove',\n",
              "  'price': 300,\n",
              "  'quantity': 75,\n",
              "  'weight': 200},\n",
              " '1025': {'category': 'beauty',\n",
              "  'name': 'lux',\n",
              "  'price': 190,\n",
              "  'quantity': 47,\n",
              "  'weight': 200},\n",
              " '1026': {'category': 'beauty',\n",
              "  'name': 'mist',\n",
              "  'price': 175,\n",
              "  'quantity': 29,\n",
              "  'weight': 75},\n",
              " '1027': {'category': 'beauty',\n",
              "  'name': 'shampoo',\n",
              "  'price': 180,\n",
              "  'quantity': 65,\n",
              "  'weight': 275},\n",
              " '1028': {'category': 'beauty',\n",
              "  'name': 'facetoner',\n",
              "  'price': 175,\n",
              "  'quantity': 39,\n",
              "  'weight': 100},\n",
              " '1029': {'category': 'beauty',\n",
              "  'name': 'faceserum',\n",
              "  'price': 350,\n",
              "  'quantity': 25,\n",
              "  'weight': 65},\n",
              " '1030': {'category': 'beauty',\n",
              "  'name': 'hairserum',\n",
              "  'price': 450,\n",
              "  'quantity': 29,\n",
              "  'weight': 145},\n",
              " '1031': {'category': 'food',\n",
              "  'name': 'hersheys',\n",
              "  'price': 35,\n",
              "  'quantity': 6,\n",
              "  'weight': 380}}"
            ]
          },
          "metadata": {},
          "execution_count": 11
        }
      ]
    },
    {
      "cell_type": "markdown",
      "metadata": {
        "id": "joUqcwMNZyhf"
      },
      "source": [
        "## code for purchasing"
      ]
    },
    {
      "cell_type": "code",
      "metadata": {
        "colab": {
          "base_uri": "https://localhost:8080/"
        },
        "id": "1LKI5oGOZWmx",
        "outputId": "ab3a6955-811a-4282-e045-a6292015a831"
      },
      "source": [
        "product_id=input(\"Enter product id to be purchased: \")\n",
        "quant=int(input(\"Enter the quantity to be purchased: \"))\n",
        "if(record[product_id]['quantity'] >= quant):\n",
        "  billing_amount=record[product_id]['price']*quant\n",
        "  print(\"category\",record[product_id]['category'])\n",
        "  print(\"name\",record[product_id]['name'])\n",
        "  print(\"billing amount\",billing_amount)\n",
        "  new_quantity=record[product_id]['quantity']-quant\n",
        "  record[product_id]['quantity']=new_quantity\n",
        "  print(\"available quantity\",new_quantity) \n",
        "else:\n",
        "  print(\"sorry not Available\")\n",
        "  js=json.dumps(record)\n",
        "fd=open(\"record.json\",'w')\n",
        "fd.write(js)\n",
        "fd.close()\n"
      ],
      "execution_count": null,
      "outputs": [
        {
          "output_type": "stream",
          "name": "stdout",
          "text": [
            "Enter product id to be purchased: 1004\n",
            "Enter the quantity to be purchased: 12\n",
            "category food\n",
            "name cupcake\n",
            "billing amount 240\n",
            "available quantity 73\n"
          ]
        }
      ]
    },
    {
      "cell_type": "markdown",
      "metadata": {
        "id": "plhcAnEvAC8S"
      },
      "source": [
        "# sales"
      ]
    },
    {
      "cell_type": "code",
      "metadata": {
        "colab": {
          "base_uri": "https://localhost:8080/"
        },
        "id": "mkco-Qeb_tc6",
        "outputId": "7b9ec14e-8d6f-47c7-8a84-81b31857b264"
      },
      "source": [
        "{'id':product_id,'qn':quantity,'amt':billing_amount}"
      ],
      "execution_count": null,
      "outputs": [
        {
          "output_type": "execute_result",
          "data": {
            "text/plain": [
              "{'amt': 100, 'id': '1008', 'qn': 5}"
            ]
          },
          "metadata": {},
          "execution_count": 49
        }
      ]
    },
    {
      "cell_type": "code",
      "metadata": {
        "id": "0x55zFWYEpsC"
      },
      "source": [
        "uid=2001"
      ],
      "execution_count": null,
      "outputs": []
    },
    {
      "cell_type": "code",
      "metadata": {
        "id": "IPrwHW6qAqyo"
      },
      "source": [
        "\n",
        "uid=uid+1\n",
        "sales[uid]={'id':product_id,'qn':quantity,'amt':billing_amount}"
      ],
      "execution_count": null,
      "outputs": []
    },
    {
      "cell_type": "code",
      "metadata": {
        "id": "LUflsOuQBLa_"
      },
      "source": [
        "sale=json.dumps(sales)\n",
        "fd=open('sale.json','a')\n",
        "fd.write(sale)\n",
        "fd.close()"
      ],
      "execution_count": null,
      "outputs": []
    },
    {
      "cell_type": "code",
      "metadata": {
        "colab": {
          "base_uri": "https://localhost:8080/"
        },
        "id": "XHoFdfwlB-Tn",
        "outputId": "650bd135-d50f-4f27-c667-1d27e3fdc2f9"
      },
      "source": [
        "sales"
      ],
      "execution_count": null,
      "outputs": [
        {
          "output_type": "execute_result",
          "data": {
            "text/plain": [
              "{2002: {'amt': 100, 'id': '1008', 'qn': 5},\n",
              " 2003: {'amt': 70, 'id': '1010', 'qn': 7},\n",
              " 2004: {'amt': 240, 'id': '1004', 'qn': 3}}"
            ]
          },
          "metadata": {},
          "execution_count": 80
        }
      ]
    },
    {
      "cell_type": "markdown",
      "metadata": {
        "id": "0SgIDkTzc-1L"
      },
      "source": [
        "# code for updating inventory"
      ]
    },
    {
      "cell_type": "code",
      "metadata": {
        "colab": {
          "base_uri": "https://localhost:8080/"
        },
        "id": "XS4hfsN5bZ_W",
        "outputId": "20f9098f-9b09-4a54-dd1b-561b7a69ef18"
      },
      "source": [
        "product_id=input(\"enter product_id to be updated:\")\n",
        "quantity=int(input(\"enter the quantity to be updated:\"))\n",
        "print(\"updated product details\")\n",
        "print(\"name:\",record[product_id]['name'])\n",
        "print(\"old quantity:\",record[product_id]['quantity'])\n",
        "b=record[product_id]['quantity']+quantity\n",
        "record[product_id]['quantity']=b\n",
        "print(\"new quantity:\",record[product_id]['quantity'])\n",
        "print(\"category:\",record[product_id]['category'])\n",
        "\n",
        "js=json.dumps(record)\n",
        "fd=open(\"record.json\",'w')\n",
        "fd.write(js)\n",
        "fd.close()"
      ],
      "execution_count": null,
      "outputs": [
        {
          "output_type": "stream",
          "name": "stdout",
          "text": [
            "enter product_id to be updated:1005\n",
            "enter the quantity to be updated:12\n",
            "updated product details\n",
            "name: donuts\n",
            "old quantity: 20\n",
            "new quantity: 32\n",
            "category: food\n"
          ]
        }
      ]
    },
    {
      "cell_type": "code",
      "metadata": {
        "id": "uzSpVQWFjtg3"
      },
      "source": [
        ""
      ],
      "execution_count": null,
      "outputs": []
    },
    {
      "cell_type": "code",
      "metadata": {
        "id": "0p1cC6RJkFCT"
      },
      "source": [
        ""
      ],
      "execution_count": null,
      "outputs": []
    }
  ]
}