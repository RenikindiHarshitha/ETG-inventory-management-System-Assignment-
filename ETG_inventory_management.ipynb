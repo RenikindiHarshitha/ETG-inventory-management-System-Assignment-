{
  "nbformat": 4,
  "nbformat_minor": 0,
  "metadata": {
    "colab": {
      "name": "ETG inventory management",
      "provenance": [],
      "collapsed_sections": []
    },
    "kernelspec": {
      "name": "python3",
      "display_name": "Python 3"
    },
    "language_info": {
      "name": "python"
    }
  },
  "cells": [
    {
      "cell_type": "code",
      "metadata": {
        "id": "C_GVyGKqJXnv"
      },
      "source": [
        "import json\n",
        "fd=open(\"record.json\",'r')\n",
        "r=fd.read()\n",
        "fd.close()"
      ],
      "execution_count": null,
      "outputs": []
    },
    {
      "cell_type": "code",
      "metadata": {
        "id": "RwRyGqKDJ3mL"
      },
      "source": [
        "record=json.loads(r)"
      ],
      "execution_count": null,
      "outputs": []
    },
    {
      "cell_type": "code",
      "metadata": {
        "colab": {
          "base_uri": "https://localhost:8080/"
        },
        "id": "oJ3QKXf1KIaW",
        "outputId": "4b1cd536-7fd9-4c4e-e402-7b9a5b349e09"
      },
      "source": [
        "prod_id=input(\"Enter product id:\")\n",
        "name=input(\"Enter product name:\")\n",
        "price=int(input(\"Enter the price:\"))\n",
        "quantity=int(input(\"Enter the quantity:\"))\n",
        "weight=int(input(\"Enter the weight of the product:\"))\n",
        "category=input(\"Enter product category:\")\n",
        "\n",
        "\n",
        "record[prod_id]={'name':name,'price':price,'quantity':quantity,'weight':weight,'category':category}\n",
        "js=json.dumps(record)\n",
        "fd=open(\"record.json\",'w')\n",
        "fd.write(js)\n",
        "fd.close()\n"
      ],
      "execution_count": null,
      "outputs": [
        {
          "name": "stdout",
          "output_type": "stream",
          "text": [
            "Enter product id:1031\n",
            "Enter product name:hersheys\n",
            "Enter the price:35\n",
            "Enter the quantity:6\n",
            "Enter the weight of the product:380\n",
            "Enter product category:food\n"
          ]
        }
      ]
    },
    {
      "cell_type": "code",
      "metadata": {
        "colab": {
          "base_uri": "https://localhost:8080/"
        },
        "id": "wXq2RuwAMKe0",
        "outputId": "d2c15a9a-5d33-4802-8f10-3f84c0dd7812"
      },
      "source": [
        "record"
      ],
      "execution_count": null,
      "outputs": [
        {
          "output_type": "execute_result",
          "data": {
            "text/plain": [
              "{'1001': {'category': 'food',\n",
              "  'name': 'perk',\n",
              "  'price': 10,\n",
              "  'quantity': 100,\n",
              "  'weight': 13},\n",
              " '1002': {'50': 0,\n",
              "  'category': 'food',\n",
              "  'name': 'lays',\n",
              "  'price': 10,\n",
              "  'quantity': 0,\n",
              "  'weight': 167},\n",
              " '1003': {'2': 73,\n",
              "  'category': 'food',\n",
              "  'name': 'icecream',\n",
              "  'price': 200,\n",
              "  'quantity': 75,\n",
              "  'weight': 250},\n",
              " '1004': {'category': 'food',\n",
              "  'name': 'cupcake',\n",
              "  'price': 20,\n",
              "  'quantity': 85,\n",
              "  'weight': 30},\n",
              " '1005': {'5': 15,\n",
              "  'category': 'food',\n",
              "  'name': 'donuts',\n",
              "  'price': 40,\n",
              "  'quantity': 32,\n",
              "  'weight': 50},\n",
              " '1006': {'2': 48,\n",
              "  'category': 'food',\n",
              "  'name': 'coke',\n",
              "  'price': 30,\n",
              "  'quantity': 50,\n",
              "  'weight': 384},\n",
              " '1007': {'category': 'food',\n",
              "  'name': 'doritos',\n",
              "  'price': 30,\n",
              "  'quantity': 85,\n",
              "  'weight': 150},\n",
              " '1008': {'5': 92,\n",
              "  'category': 'food',\n",
              "  'name': 'kurkure',\n",
              "  'price': 20,\n",
              "  'quantity': 97,\n",
              "  'weight': 130},\n",
              " '1009': {'category': 'food',\n",
              "  'name': 'snickers',\n",
              "  'price': 30,\n",
              "  'quantity': 45,\n",
              "  'weight': 200},\n",
              " '1010': {'7': 48,\n",
              "  'category': 'food',\n",
              "  'name': 'hippo',\n",
              "  'price': 10,\n",
              "  'quantity': 55,\n",
              "  'weight': 125},\n",
              " '1011': {'category': 'food',\n",
              "  'name': 'pringles',\n",
              "  'price': 100,\n",
              "  'quantity': 40,\n",
              "  'weight': 300},\n",
              " '1012': {'category': 'food',\n",
              "  'name': 'kisses',\n",
              "  'price': 125,\n",
              "  'quantity': 80,\n",
              "  'weight': 50},\n",
              " '1013': {'category': 'food',\n",
              "  'name': 'kitkat',\n",
              "  'price': 50,\n",
              "  'quantity': 80,\n",
              "  'weight': 15},\n",
              " '1014': {'category': 'food',\n",
              "  'name': 'sprite',\n",
              "  'price': 120,\n",
              "  'quantity': 40,\n",
              "  'weight': 500},\n",
              " '1015': {'category': 'food',\n",
              "  'name': 'mountaindew',\n",
              "  'price': 45,\n",
              "  'quantity': 20,\n",
              "  'weight': 130},\n",
              " '1016': {'category': 'beauty',\n",
              "  'name': 'vaseline',\n",
              "  'price': 135,\n",
              "  'quantity': 40,\n",
              "  'weight': 125},\n",
              " '1017': {'3': 33,\n",
              "  'category': 'beauty',\n",
              "  'name': 'nivea',\n",
              "  'price': 170,\n",
              "  'quantity': 36,\n",
              "  'weight': 125},\n",
              " '1018': {'category': 'eauty',\n",
              "  'name': 'bodyshop',\n",
              "  'price': 600,\n",
              "  'quantity': 15,\n",
              "  'weight': 50},\n",
              " '1019': {'category': 'eauty',\n",
              "  'name': 'lipbalm',\n",
              "  'price': 120,\n",
              "  'quantity': 15,\n",
              "  'weight': 20},\n",
              " '1020': {'category': 'beauty',\n",
              "  'name': 'hairdye',\n",
              "  'price': 45,\n",
              "  'quantity': 95,\n",
              "  'weight': 30},\n",
              " '1021': {'category': 'beauty',\n",
              "  'name': 'oil',\n",
              "  'price': 90,\n",
              "  'quantity': 37,\n",
              "  'weight': 120},\n",
              " '1022': {'category': 'beauty',\n",
              "  'name': 'aloegel',\n",
              "  'price': 200,\n",
              "  'quantity': 15,\n",
              "  'weight': 230},\n",
              " '1023': {'category': 'beauty',\n",
              "  'name': 'deodrent',\n",
              "  'price': 250,\n",
              "  'quantity': 40,\n",
              "  'weight': 150},\n",
              " '1024': {'category': 'beauty',\n",
              "  'name': 'dove',\n",
              "  'price': 300,\n",
              "  'quantity': 75,\n",
              "  'weight': 200},\n",
              " '1025': {'category': 'beauty',\n",
              "  'name': 'lux',\n",
              "  'price': 190,\n",
              "  'quantity': 47,\n",
              "  'weight': 200},\n",
              " '1026': {'category': 'beauty',\n",
              "  'name': 'mist',\n",
              "  'price': 175,\n",
              "  'quantity': 29,\n",
              "  'weight': 75},\n",
              " '1027': {'category': 'beauty',\n",
              "  'name': 'shampoo',\n",
              "  'price': 180,\n",
              "  'quantity': 65,\n",
              "  'weight': 275},\n",
              " '1028': {'category': 'beauty',\n",
              "  'name': 'facetoner',\n",
              "  'price': 175,\n",
              "  'quantity': 39,\n",
              "  'weight': 100},\n",
              " '1029': {'category': 'beauty',\n",
              "  'name': 'faceserum',\n",
              "  'price': 350,\n",
              "  'quantity': 25,\n",
              "  'weight': 65},\n",
              " '1030': {'category': 'beauty',\n",
              "  'name': 'hairserum',\n",
              "  'price': 450,\n",
              "  'quantity': 29,\n",
              "  'weight': 145}}"
            ]
          },
          "metadata": {},
          "execution_count": 8
        }
      ]
    },
    {
      "cell_type": "markdown",
      "metadata": {
        "id": "joUqcwMNZyhf"
      },
      "source": [
        "## code for purchasing"
      ]
    },
    {
      "cell_type": "code",
      "metadata": {
        "colab": {
          "base_uri": "https://localhost:8080/"
        },
        "id": "1LKI5oGOZWmx",
        "outputId": "2ee20f35-4739-49a8-dde2-47c69c347300"
      },
      "source": [
        "\n",
        "product_id=input(\"Enter product id to be purchased: \")\n",
        "quant=int(input(\"Enter the quantity to be purchased: \"))\n",
        "if(record[product_id]['quantity'] >= quant):\n",
        "  billing_amount=record[product_id]['price']*quant\n",
        "  print(\"category\",record[product_id]['category'])\n",
        "  print(\"name\",record[product_id]['name'])\n",
        "  print(\"billing amount\",billing_amount)\n",
        "  new_quantity=record[product_id]['quantity']-quant\n",
        "  record[product_id]['quantity']=new_quantity\n",
        "  print(\"available quantity\",new_quantity) \n",
        "else:\n",
        "  print(\"sorry not Available\")\n",
        "  js=json.dumps(record)\n",
        "fd=open(\"record.json\",'w')\n",
        "fd.write('js')\n",
        "fd.close()\n"
      ],
      "execution_count": 40,
      "outputs": [
        {
          "output_type": "stream",
          "name": "stdout",
          "text": [
            "Enter product id to be purchased: 1005\n",
            "Enter the quantity to be purchased: 3\n",
            "category food\n",
            "name donuts\n",
            "billing amount 120\n",
            "available quantity 21\n"
          ]
        }
      ]
    },
    {
      "cell_type": "markdown",
      "metadata": {
        "id": "plhcAnEvAC8S"
      },
      "source": [
        "# sales"
      ]
    },
    {
      "cell_type": "code",
      "metadata": {
        "id": "mkco-Qeb_tc6"
      },
      "source": [
        "sales={uid:{'id':product_id,'qn':quant,'amt':billing_amount}}"
      ],
      "execution_count": 34,
      "outputs": []
    },
    {
      "cell_type": "code",
      "metadata": {
        "id": "0x55zFWYEpsC"
      },
      "source": [
        "uid=2001"
      ],
      "execution_count": 18,
      "outputs": []
    },
    {
      "cell_type": "code",
      "metadata": {
        "id": "IPrwHW6qAqyo"
      },
      "source": [
        "\n",
        "uid=uid+1\n",
        "sales[uid]={'id':product_id,'qn':quant,'amt':billing_amount}"
      ],
      "execution_count": 35,
      "outputs": []
    },
    {
      "cell_type": "code",
      "metadata": {
        "id": "LUflsOuQBLa_"
      },
      "source": [
        "sale=json.dumps(sales)\n",
        "fd=open('sale.json','a')\n",
        "fd.write(sale)\n",
        "fd.close()"
      ],
      "execution_count": 38,
      "outputs": []
    },
    {
      "cell_type": "code",
      "metadata": {
        "colab": {
          "base_uri": "https://localhost:8080/"
        },
        "id": "XHoFdfwlB-Tn",
        "outputId": "cb02040e-3f7b-4367-bc6d-1d93153ced25"
      },
      "source": [
        "sales"
      ],
      "execution_count": 37,
      "outputs": [
        {
          "output_type": "execute_result",
          "data": {
            "text/plain": [
              "{2008: {'amt': 400, 'id': '1003', 'qn': 2},\n",
              " 2009: {'amt': 400, 'id': '1003', 'qn': 2}}"
            ]
          },
          "metadata": {},
          "execution_count": 37
        }
      ]
    },
    {
      "cell_type": "markdown",
      "metadata": {
        "id": "0SgIDkTzc-1L"
      },
      "source": [
        "# code for updating inventory"
      ]
    },
    {
      "cell_type": "code",
      "metadata": {
        "colab": {
          "base_uri": "https://localhost:8080/"
        },
        "id": "XS4hfsN5bZ_W",
        "outputId": "6c3fabdc-1f15-4b87-f638-72c26c8a88ae"
      },
      "source": [
        "product_id=input(\"enter product_id to be updated:\")\n",
        "quantity=int(input(\"enter the quantity to be updated:\"))\n",
        "print(\"updated product details\")\n",
        "print(\"name:\",record[product_id]['name'])\n",
        "print(\"old quantity:\",record[product_id]['quantity'])\n",
        "b=record[product_id]['quantity']+quantity\n",
        "record[product_id]['quantity']=b\n",
        "print(\"new quantity:\",record[product_id]['quantity'])\n",
        "print(\"category:\",record[product_id]['category'])\n",
        "\n",
        "js=json.dumps(record)\n",
        "fd=open(\"record.json\",'w')\n",
        "fd.write(js)\n",
        "fd.close()"
      ],
      "execution_count": 39,
      "outputs": [
        {
          "output_type": "stream",
          "name": "stdout",
          "text": [
            "enter product_id to be updated:1003\n",
            "enter the quantity to be updated:2\n",
            "updated product details\n",
            "name: icecream\n",
            "old quantity: 73\n",
            "new quantity: 75\n",
            "category: food\n"
          ]
        }
      ]
    },
    {
      "cell_type": "code",
      "metadata": {
        "id": "uzSpVQWFjtg3"
      },
      "source": [
        ""
      ],
      "execution_count": null,
      "outputs": []
    },
    {
      "cell_type": "code",
      "metadata": {
        "id": "0p1cC6RJkFCT"
      },
      "source": [
        ""
      ],
      "execution_count": null,
      "outputs": []
    }
  ]
}