{
  "nbformat": 4,
  "nbformat_minor": 0,
  "metadata": {
    "colab": {
      "name": "ETG inventory management",
      "provenance": [],
      "collapsed_sections": []
    },
    "kernelspec": {
      "name": "python3",
      "display_name": "Python 3"
    },
    "language_info": {
      "name": "python"
    }
  },
  "cells": [
    {
      "cell_type": "code",
      "metadata": {
        "id": "C_GVyGKqJXnv"
      },
      "source": [
        "fd=open(\"record.json\",'r')\n",
        "r=fd.read()\n",
        "fd.close()"
      ],
      "execution_count": 12,
      "outputs": []
    },
    {
      "cell_type": "code",
      "metadata": {
        "id": "RwRyGqKDJ3mL"
      },
      "source": [
        "record=json.loads(r)"
      ],
      "execution_count": 13,
      "outputs": []
    },
    {
      "cell_type": "code",
      "metadata": {
        "colab": {
          "base_uri": "https://localhost:8080/"
        },
        "id": "6VxVtNDiKGFP",
        "outputId": "6e87e00d-e198-4b85-fdc1-c8fe55e721f6"
      },
      "source": [
        "record"
      ],
      "execution_count": 14,
      "outputs": [
        {
          "output_type": "execute_result",
          "data": {
            "text/plain": [
              "{'1001': {'category': 'food',\n",
              "  'name': 'perk',\n",
              "  'price': 10,\n",
              "  'quantity': 100,\n",
              "  'weight': 13},\n",
              " '1002': {'category': 'food',\n",
              "  'name': 'lays',\n",
              "  'price': 10,\n",
              "  'quantity': 50,\n",
              "  'weight': 167},\n",
              " '1003': {'category': 'food',\n",
              "  'name': 'icecream',\n",
              "  'price': 200,\n",
              "  'quantity': 75,\n",
              "  'weight': 250},\n",
              " '1004': {'category': 'food',\n",
              "  'name': 'cupcake',\n",
              "  'price': 20,\n",
              "  'quantity': 80,\n",
              "  'weight': 30},\n",
              " '1005': {'category': 'food',\n",
              "  'name': 'donuts',\n",
              "  'price': 40,\n",
              "  'quantity': 20,\n",
              "  'weight': 50},\n",
              " '1006': {'category': 'food',\n",
              "  'name': 'coke',\n",
              "  'price': 30,\n",
              "  'quantity': 50,\n",
              "  'weight': 384},\n",
              " '1007': {'category': 'food',\n",
              "  'name': 'doritos',\n",
              "  'price': 30,\n",
              "  'quantity': 85,\n",
              "  'weight': 150},\n",
              " '1008': {'category': 'food',\n",
              "  'name': 'kurkure',\n",
              "  'price': 20,\n",
              "  'quantity': 97,\n",
              "  'weight': 130},\n",
              " '1009': {'category': 'food',\n",
              "  'name': 'snickers',\n",
              "  'price': 30,\n",
              "  'quantity': 45,\n",
              "  'weight': 200},\n",
              " '1010': {'category': 'food',\n",
              "  'name': 'hippo',\n",
              "  'price': 10,\n",
              "  'quantity': 55,\n",
              "  'weight': 125},\n",
              " '1011': {'category': 'food',\n",
              "  'name': 'pringles',\n",
              "  'price': 100,\n",
              "  'quantity': 40,\n",
              "  'weight': 300},\n",
              " '1012': {'category': 'food',\n",
              "  'name': 'kisses',\n",
              "  'price': 125,\n",
              "  'quantity': 80,\n",
              "  'weight': 50},\n",
              " '1013': {'category': 'food',\n",
              "  'name': 'kitkat',\n",
              "  'price': 50,\n",
              "  'quantity': 80,\n",
              "  'weight': 15},\n",
              " '1014': {'category': 'food',\n",
              "  'name': 'sprite',\n",
              "  'price': 120,\n",
              "  'quantity': 40,\n",
              "  'weight': 500},\n",
              " '1015': {'category': 'food',\n",
              "  'name': 'mountaindew',\n",
              "  'price': 45,\n",
              "  'quantity': 20,\n",
              "  'weight': 130},\n",
              " '1016': {'category': 'beauty',\n",
              "  'name': 'vaseline',\n",
              "  'price': 135,\n",
              "  'quantity': 40,\n",
              "  'weight': 125},\n",
              " '1017': {'category': 'beauty',\n",
              "  'name': 'nivea',\n",
              "  'price': 170,\n",
              "  'quantity': 36,\n",
              "  'weight': 125},\n",
              " '1018': {'category': 'eauty',\n",
              "  'name': 'bodyshop',\n",
              "  'price': 600,\n",
              "  'quantity': 15,\n",
              "  'weight': 50},\n",
              " '1019': {'category': 'eauty',\n",
              "  'name': 'lipbalm',\n",
              "  'price': 120,\n",
              "  'quantity': 15,\n",
              "  'weight': 20},\n",
              " '1020': {'category': 'beauty',\n",
              "  'name': 'hairdye',\n",
              "  'price': 45,\n",
              "  'quantity': 95,\n",
              "  'weight': 30},\n",
              " '1021': {'category': 'beauty',\n",
              "  'name': 'oil',\n",
              "  'price': 90,\n",
              "  'quantity': 37,\n",
              "  'weight': 120},\n",
              " '1022': {'category': 'beauty',\n",
              "  'name': 'aloegel',\n",
              "  'price': 200,\n",
              "  'quantity': 15,\n",
              "  'weight': 230},\n",
              " '1023': {'category': 'beauty',\n",
              "  'name': 'deodrent',\n",
              "  'price': 250,\n",
              "  'quantity': 40,\n",
              "  'weight': 150},\n",
              " '1024': {'category': 'beauty',\n",
              "  'name': 'dove',\n",
              "  'price': 300,\n",
              "  'quantity': 75,\n",
              "  'weight': 200},\n",
              " '1025': {'category': 'beauty',\n",
              "  'name': 'lux',\n",
              "  'price': 190,\n",
              "  'quantity': 47,\n",
              "  'weight': 200},\n",
              " '1026': {'category': 'beauty',\n",
              "  'name': 'mist',\n",
              "  'price': 175,\n",
              "  'quantity': 29,\n",
              "  'weight': 75},\n",
              " '1027': {'category': 'beauty',\n",
              "  'name': 'shampoo',\n",
              "  'price': 180,\n",
              "  'quantity': 65,\n",
              "  'weight': 275},\n",
              " '1029': {'category': 'beauty',\n",
              "  'name': 'faceserum',\n",
              "  'price': 350,\n",
              "  'quantity': 25,\n",
              "  'weight': 65},\n",
              " '1030': {'category': 'beauty',\n",
              "  'name': 'hairserum',\n",
              "  'price': 450,\n",
              "  'quantity': 29,\n",
              "  'weight': 145},\n",
              " '180': {'category': 'beauty',\n",
              "  'name': 'facetoner',\n",
              "  'price': 175,\n",
              "  'quantity': 39,\n",
              "  'weight': 100}}"
            ]
          },
          "metadata": {},
          "execution_count": 14
        }
      ]
    },
    {
      "cell_type": "code",
      "metadata": {
        "colab": {
          "base_uri": "https://localhost:8080/",
          "height": 578
        },
        "id": "oJ3QKXf1KIaW",
        "outputId": "c57bd427-38b6-437d-db80-fcdf2ca1a0f4"
      },
      "source": [
        "prod_id=input(\"Enter product id:\")\n",
        "name=input(\"Enter product name:\")\n",
        "price=int(input(\"Enter the price:\"))\n",
        "quantity=int(input(\"Enter the quantity:\"))\n",
        "weight=int(input(\"Enter the weight of the product:\"))\n",
        "category=input(\"Enter product category:\")\n",
        "\n",
        "\n",
        "record[prod_id]={'name':name,'price':price,'quantity':quantity,'weight':weight,'category':category}\n",
        "js=json.dumps(record)\n",
        "fd=open(\"record.json\",'w')\n",
        "fd.write(js)\n",
        "fd.close()\n"
      ],
      "execution_count": 68,
      "outputs": [
        {
          "output_type": "error",
          "ename": "KeyboardInterrupt",
          "evalue": "ignored",
          "traceback": [
            "\u001b[0;31m---------------------------------------------------------------------------\u001b[0m",
            "\u001b[0;31mKeyboardInterrupt\u001b[0m                         Traceback (most recent call last)",
            "\u001b[0;32m/usr/local/lib/python3.7/dist-packages/ipykernel/kernelbase.py\u001b[0m in \u001b[0;36m_input_request\u001b[0;34m(self, prompt, ident, parent, password)\u001b[0m\n\u001b[1;32m    728\u001b[0m             \u001b[0;32mtry\u001b[0m\u001b[0;34m:\u001b[0m\u001b[0;34m\u001b[0m\u001b[0;34m\u001b[0m\u001b[0m\n\u001b[0;32m--> 729\u001b[0;31m                 \u001b[0mident\u001b[0m\u001b[0;34m,\u001b[0m \u001b[0mreply\u001b[0m \u001b[0;34m=\u001b[0m \u001b[0mself\u001b[0m\u001b[0;34m.\u001b[0m\u001b[0msession\u001b[0m\u001b[0;34m.\u001b[0m\u001b[0mrecv\u001b[0m\u001b[0;34m(\u001b[0m\u001b[0mself\u001b[0m\u001b[0;34m.\u001b[0m\u001b[0mstdin_socket\u001b[0m\u001b[0;34m,\u001b[0m \u001b[0;36m0\u001b[0m\u001b[0;34m)\u001b[0m\u001b[0;34m\u001b[0m\u001b[0;34m\u001b[0m\u001b[0m\n\u001b[0m\u001b[1;32m    730\u001b[0m             \u001b[0;32mexcept\u001b[0m \u001b[0mException\u001b[0m\u001b[0;34m:\u001b[0m\u001b[0;34m\u001b[0m\u001b[0;34m\u001b[0m\u001b[0m\n",
            "\u001b[0;32m/usr/local/lib/python3.7/dist-packages/jupyter_client/session.py\u001b[0m in \u001b[0;36mrecv\u001b[0;34m(self, socket, mode, content, copy)\u001b[0m\n\u001b[1;32m    802\u001b[0m         \u001b[0;32mtry\u001b[0m\u001b[0;34m:\u001b[0m\u001b[0;34m\u001b[0m\u001b[0;34m\u001b[0m\u001b[0m\n\u001b[0;32m--> 803\u001b[0;31m             \u001b[0mmsg_list\u001b[0m \u001b[0;34m=\u001b[0m \u001b[0msocket\u001b[0m\u001b[0;34m.\u001b[0m\u001b[0mrecv_multipart\u001b[0m\u001b[0;34m(\u001b[0m\u001b[0mmode\u001b[0m\u001b[0;34m,\u001b[0m \u001b[0mcopy\u001b[0m\u001b[0;34m=\u001b[0m\u001b[0mcopy\u001b[0m\u001b[0;34m)\u001b[0m\u001b[0;34m\u001b[0m\u001b[0;34m\u001b[0m\u001b[0m\n\u001b[0m\u001b[1;32m    804\u001b[0m         \u001b[0;32mexcept\u001b[0m \u001b[0mzmq\u001b[0m\u001b[0;34m.\u001b[0m\u001b[0mZMQError\u001b[0m \u001b[0;32mas\u001b[0m \u001b[0me\u001b[0m\u001b[0;34m:\u001b[0m\u001b[0;34m\u001b[0m\u001b[0;34m\u001b[0m\u001b[0m\n",
            "\u001b[0;32m/usr/local/lib/python3.7/dist-packages/zmq/sugar/socket.py\u001b[0m in \u001b[0;36mrecv_multipart\u001b[0;34m(self, flags, copy, track)\u001b[0m\n\u001b[1;32m    618\u001b[0m         \"\"\"\n\u001b[0;32m--> 619\u001b[0;31m         \u001b[0mparts\u001b[0m \u001b[0;34m=\u001b[0m \u001b[0;34m[\u001b[0m\u001b[0mself\u001b[0m\u001b[0;34m.\u001b[0m\u001b[0mrecv\u001b[0m\u001b[0;34m(\u001b[0m\u001b[0mflags\u001b[0m\u001b[0;34m,\u001b[0m \u001b[0mcopy\u001b[0m\u001b[0;34m=\u001b[0m\u001b[0mcopy\u001b[0m\u001b[0;34m,\u001b[0m \u001b[0mtrack\u001b[0m\u001b[0;34m=\u001b[0m\u001b[0mtrack\u001b[0m\u001b[0;34m)\u001b[0m\u001b[0;34m]\u001b[0m\u001b[0;34m\u001b[0m\u001b[0;34m\u001b[0m\u001b[0m\n\u001b[0m\u001b[1;32m    620\u001b[0m         \u001b[0;31m# have first part already, only loop while more to receive\u001b[0m\u001b[0;34m\u001b[0m\u001b[0;34m\u001b[0m\u001b[0;34m\u001b[0m\u001b[0m\n",
            "\u001b[0;32mzmq/backend/cython/socket.pyx\u001b[0m in \u001b[0;36mzmq.backend.cython.socket.Socket.recv\u001b[0;34m()\u001b[0m\n",
            "\u001b[0;32mzmq/backend/cython/socket.pyx\u001b[0m in \u001b[0;36mzmq.backend.cython.socket.Socket.recv\u001b[0;34m()\u001b[0m\n",
            "\u001b[0;32mzmq/backend/cython/socket.pyx\u001b[0m in \u001b[0;36mzmq.backend.cython.socket._recv_copy\u001b[0;34m()\u001b[0m\n",
            "\u001b[0;32m/usr/local/lib/python3.7/dist-packages/zmq/backend/cython/checkrc.pxd\u001b[0m in \u001b[0;36mzmq.backend.cython.checkrc._check_rc\u001b[0;34m()\u001b[0m\n",
            "\u001b[0;31mKeyboardInterrupt\u001b[0m: ",
            "\nDuring handling of the above exception, another exception occurred:\n",
            "\u001b[0;31mKeyboardInterrupt\u001b[0m                         Traceback (most recent call last)",
            "\u001b[0;32m<ipython-input-68-58189ba1b2f6>\u001b[0m in \u001b[0;36m<module>\u001b[0;34m()\u001b[0m\n\u001b[0;32m----> 1\u001b[0;31m \u001b[0mprod_id\u001b[0m\u001b[0;34m=\u001b[0m\u001b[0minput\u001b[0m\u001b[0;34m(\u001b[0m\u001b[0;34m\"Enter product id:\"\u001b[0m\u001b[0;34m)\u001b[0m\u001b[0;34m\u001b[0m\u001b[0;34m\u001b[0m\u001b[0m\n\u001b[0m\u001b[1;32m      2\u001b[0m \u001b[0mname\u001b[0m\u001b[0;34m=\u001b[0m\u001b[0minput\u001b[0m\u001b[0;34m(\u001b[0m\u001b[0;34m\"Enter product name:\"\u001b[0m\u001b[0;34m)\u001b[0m\u001b[0;34m\u001b[0m\u001b[0;34m\u001b[0m\u001b[0m\n\u001b[1;32m      3\u001b[0m \u001b[0mprice\u001b[0m\u001b[0;34m=\u001b[0m\u001b[0mint\u001b[0m\u001b[0;34m(\u001b[0m\u001b[0minput\u001b[0m\u001b[0;34m(\u001b[0m\u001b[0;34m\"Enter the price:\"\u001b[0m\u001b[0;34m)\u001b[0m\u001b[0;34m)\u001b[0m\u001b[0;34m\u001b[0m\u001b[0;34m\u001b[0m\u001b[0m\n\u001b[1;32m      4\u001b[0m \u001b[0mquantity\u001b[0m\u001b[0;34m=\u001b[0m\u001b[0mint\u001b[0m\u001b[0;34m(\u001b[0m\u001b[0minput\u001b[0m\u001b[0;34m(\u001b[0m\u001b[0;34m\"Enter the quantity:\"\u001b[0m\u001b[0;34m)\u001b[0m\u001b[0;34m)\u001b[0m\u001b[0;34m\u001b[0m\u001b[0;34m\u001b[0m\u001b[0m\n\u001b[1;32m      5\u001b[0m \u001b[0mweight\u001b[0m\u001b[0;34m=\u001b[0m\u001b[0mint\u001b[0m\u001b[0;34m(\u001b[0m\u001b[0minput\u001b[0m\u001b[0;34m(\u001b[0m\u001b[0;34m\"Enter the weight of the product:\"\u001b[0m\u001b[0;34m)\u001b[0m\u001b[0;34m)\u001b[0m\u001b[0;34m\u001b[0m\u001b[0;34m\u001b[0m\u001b[0m\n",
            "\u001b[0;32m/usr/local/lib/python3.7/dist-packages/ipykernel/kernelbase.py\u001b[0m in \u001b[0;36mraw_input\u001b[0;34m(self, prompt)\u001b[0m\n\u001b[1;32m    702\u001b[0m             \u001b[0mself\u001b[0m\u001b[0;34m.\u001b[0m\u001b[0m_parent_ident\u001b[0m\u001b[0;34m,\u001b[0m\u001b[0;34m\u001b[0m\u001b[0;34m\u001b[0m\u001b[0m\n\u001b[1;32m    703\u001b[0m             \u001b[0mself\u001b[0m\u001b[0;34m.\u001b[0m\u001b[0m_parent_header\u001b[0m\u001b[0;34m,\u001b[0m\u001b[0;34m\u001b[0m\u001b[0;34m\u001b[0m\u001b[0m\n\u001b[0;32m--> 704\u001b[0;31m             \u001b[0mpassword\u001b[0m\u001b[0;34m=\u001b[0m\u001b[0;32mFalse\u001b[0m\u001b[0;34m,\u001b[0m\u001b[0;34m\u001b[0m\u001b[0;34m\u001b[0m\u001b[0m\n\u001b[0m\u001b[1;32m    705\u001b[0m         )\n\u001b[1;32m    706\u001b[0m \u001b[0;34m\u001b[0m\u001b[0m\n",
            "\u001b[0;32m/usr/local/lib/python3.7/dist-packages/ipykernel/kernelbase.py\u001b[0m in \u001b[0;36m_input_request\u001b[0;34m(self, prompt, ident, parent, password)\u001b[0m\n\u001b[1;32m    732\u001b[0m             \u001b[0;32mexcept\u001b[0m \u001b[0mKeyboardInterrupt\u001b[0m\u001b[0;34m:\u001b[0m\u001b[0;34m\u001b[0m\u001b[0;34m\u001b[0m\u001b[0m\n\u001b[1;32m    733\u001b[0m                 \u001b[0;31m# re-raise KeyboardInterrupt, to truncate traceback\u001b[0m\u001b[0;34m\u001b[0m\u001b[0;34m\u001b[0m\u001b[0;34m\u001b[0m\u001b[0m\n\u001b[0;32m--> 734\u001b[0;31m                 \u001b[0;32mraise\u001b[0m \u001b[0mKeyboardInterrupt\u001b[0m\u001b[0;34m\u001b[0m\u001b[0;34m\u001b[0m\u001b[0m\n\u001b[0m\u001b[1;32m    735\u001b[0m             \u001b[0;32melse\u001b[0m\u001b[0;34m:\u001b[0m\u001b[0;34m\u001b[0m\u001b[0;34m\u001b[0m\u001b[0m\n\u001b[1;32m    736\u001b[0m                 \u001b[0;32mbreak\u001b[0m\u001b[0;34m\u001b[0m\u001b[0;34m\u001b[0m\u001b[0m\n",
            "\u001b[0;31mKeyboardInterrupt\u001b[0m: "
          ]
        }
      ]
    },
    {
      "cell_type": "code",
      "metadata": {
        "colab": {
          "base_uri": "https://localhost:8080/"
        },
        "id": "wXq2RuwAMKe0",
        "outputId": "e1bea626-25fb-4efb-fb88-cca36f479d24"
      },
      "source": [
        "record"
      ],
      "execution_count": 16,
      "outputs": [
        {
          "output_type": "execute_result",
          "data": {
            "text/plain": [
              "{'1001': {'category': 'food',\n",
              "  'name': 'perk',\n",
              "  'price': 10,\n",
              "  'quantity': 100,\n",
              "  'weight': 13},\n",
              " '1002': {'category': 'food',\n",
              "  'name': 'lays',\n",
              "  'price': 10,\n",
              "  'quantity': 50,\n",
              "  'weight': 167},\n",
              " '1003': {'category': 'food',\n",
              "  'name': 'icecream',\n",
              "  'price': 200,\n",
              "  'quantity': 75,\n",
              "  'weight': 250},\n",
              " '1004': {'category': 'food',\n",
              "  'name': 'cupcake',\n",
              "  'price': 20,\n",
              "  'quantity': 80,\n",
              "  'weight': 30},\n",
              " '1005': {'category': 'food',\n",
              "  'name': 'donuts',\n",
              "  'price': 40,\n",
              "  'quantity': 20,\n",
              "  'weight': 50},\n",
              " '1006': {'category': 'food',\n",
              "  'name': 'coke',\n",
              "  'price': 30,\n",
              "  'quantity': 50,\n",
              "  'weight': 384},\n",
              " '1007': {'category': 'food',\n",
              "  'name': 'doritos',\n",
              "  'price': 30,\n",
              "  'quantity': 85,\n",
              "  'weight': 150},\n",
              " '1008': {'category': 'food',\n",
              "  'name': 'kurkure',\n",
              "  'price': 20,\n",
              "  'quantity': 97,\n",
              "  'weight': 130},\n",
              " '1009': {'category': 'food',\n",
              "  'name': 'snickers',\n",
              "  'price': 30,\n",
              "  'quantity': 45,\n",
              "  'weight': 200},\n",
              " '1010': {'category': 'food',\n",
              "  'name': 'hippo',\n",
              "  'price': 10,\n",
              "  'quantity': 55,\n",
              "  'weight': 125},\n",
              " '1011': {'category': 'food',\n",
              "  'name': 'pringles',\n",
              "  'price': 100,\n",
              "  'quantity': 40,\n",
              "  'weight': 300},\n",
              " '1012': {'category': 'food',\n",
              "  'name': 'kisses',\n",
              "  'price': 125,\n",
              "  'quantity': 80,\n",
              "  'weight': 50},\n",
              " '1013': {'category': 'food',\n",
              "  'name': 'kitkat',\n",
              "  'price': 50,\n",
              "  'quantity': 80,\n",
              "  'weight': 15},\n",
              " '1014': {'category': 'food',\n",
              "  'name': 'sprite',\n",
              "  'price': 120,\n",
              "  'quantity': 40,\n",
              "  'weight': 500},\n",
              " '1015': {'category': 'food',\n",
              "  'name': 'mountaindew',\n",
              "  'price': 45,\n",
              "  'quantity': 20,\n",
              "  'weight': 130},\n",
              " '1016': {'category': 'beauty',\n",
              "  'name': 'vaseline',\n",
              "  'price': 135,\n",
              "  'quantity': 40,\n",
              "  'weight': 125},\n",
              " '1017': {'category': 'beauty',\n",
              "  'name': 'nivea',\n",
              "  'price': 170,\n",
              "  'quantity': 36,\n",
              "  'weight': 125},\n",
              " '1018': {'category': 'eauty',\n",
              "  'name': 'bodyshop',\n",
              "  'price': 600,\n",
              "  'quantity': 15,\n",
              "  'weight': 50},\n",
              " '1019': {'category': 'eauty',\n",
              "  'name': 'lipbalm',\n",
              "  'price': 120,\n",
              "  'quantity': 15,\n",
              "  'weight': 20},\n",
              " '1020': {'category': 'beauty',\n",
              "  'name': 'hairdye',\n",
              "  'price': 45,\n",
              "  'quantity': 95,\n",
              "  'weight': 30},\n",
              " '1021': {'category': 'beauty',\n",
              "  'name': 'oil',\n",
              "  'price': 90,\n",
              "  'quantity': 37,\n",
              "  'weight': 120},\n",
              " '1022': {'category': 'beauty',\n",
              "  'name': 'aloegel',\n",
              "  'price': 200,\n",
              "  'quantity': 15,\n",
              "  'weight': 230},\n",
              " '1023': {'category': 'beauty',\n",
              "  'name': 'deodrent',\n",
              "  'price': 250,\n",
              "  'quantity': 40,\n",
              "  'weight': 150},\n",
              " '1024': {'category': 'beauty',\n",
              "  'name': 'dove',\n",
              "  'price': 300,\n",
              "  'quantity': 75,\n",
              "  'weight': 200},\n",
              " '1025': {'category': 'beauty',\n",
              "  'name': 'lux',\n",
              "  'price': 190,\n",
              "  'quantity': 47,\n",
              "  'weight': 200},\n",
              " '1026': {'category': 'beauty',\n",
              "  'name': 'mist',\n",
              "  'price': 175,\n",
              "  'quantity': 29,\n",
              "  'weight': 75},\n",
              " '1027': {'category': 'beauty',\n",
              "  'name': 'shampoo',\n",
              "  'price': 180,\n",
              "  'quantity': 65,\n",
              "  'weight': 275},\n",
              " '1029': {'category': 'beauty',\n",
              "  'name': 'faceserum',\n",
              "  'price': 350,\n",
              "  'quantity': 25,\n",
              "  'weight': 65},\n",
              " '1030': {'category': 'beauty',\n",
              "  'name': 'hairserum',\n",
              "  'price': 450,\n",
              "  'quantity': 29,\n",
              "  'weight': 145},\n",
              " '180': {'category': 'beauty',\n",
              "  'name': 'facetoner',\n",
              "  'price': 175,\n",
              "  'quantity': 39,\n",
              "  'weight': 100}}"
            ]
          },
          "metadata": {},
          "execution_count": 16
        }
      ]
    },
    {
      "cell_type": "code",
      "metadata": {
        "id": "_7F0EE2-THgH"
      },
      "source": [
        "record['1018'][category]='beauty'\n",
        "record['1019'][category]='beauty'\n"
      ],
      "execution_count": null,
      "outputs": []
    },
    {
      "cell_type": "code",
      "metadata": {
        "id": "brG7V2VlToG5"
      },
      "source": [
        "record['1028']=record.pop('180')"
      ],
      "execution_count": 17,
      "outputs": []
    },
    {
      "cell_type": "code",
      "metadata": {
        "id": "jJ0ozjsnTwLG"
      },
      "source": [
        "record['1028']={\"name\":\"facetoner\",\"price\":175,\"quantity\":39,\"weight\":165,\"category\":\"beauty\"}"
      ],
      "execution_count": null,
      "outputs": []
    },
    {
      "cell_type": "code",
      "metadata": {
        "colab": {
          "base_uri": "https://localhost:8080/"
        },
        "id": "qd1JBxKEXbXI",
        "outputId": "e627c842-741b-4c44-9942-5bc0dae05284"
      },
      "source": [
        "record['1028']"
      ],
      "execution_count": null,
      "outputs": [
        {
          "output_type": "execute_result",
          "data": {
            "text/plain": [
              "{'category': 'beauty',\n",
              " 'name': 'facetoner',\n",
              " 'price': 175,\n",
              " 'quantity': 39,\n",
              " 'weight': 165}"
            ]
          },
          "metadata": {},
          "execution_count": 113
        }
      ]
    },
    {
      "cell_type": "markdown",
      "metadata": {
        "id": "joUqcwMNZyhf"
      },
      "source": [
        "## code for purchasing"
      ]
    },
    {
      "cell_type": "code",
      "metadata": {
        "colab": {
          "base_uri": "https://localhost:8080/"
        },
        "id": "1LKI5oGOZWmx",
        "outputId": "ab3a6955-811a-4282-e045-a6292015a831"
      },
      "source": [
        "product_id=input(\"Enter product id to be purchased: \")\n",
        "quant=int(input(\"Enter the quantity to be purchased: \"))\n",
        "if(record[product_id]['quantity'] >= quant):\n",
        "  billing_amount=record[product_id]['price']*quant\n",
        "  print(\"category\",record[product_id]['category'])\n",
        "  print(\"name\",record[product_id]['name'])\n",
        "  print(\"billing amount\",billing_amount)\n",
        "  new_quantity=record[product_id]['quantity']-quant\n",
        "  record[product_id]['quantity']=new_quantity\n",
        "  print(\"available quantity\",new_quantity) \n",
        "else:\n",
        "  print(\"sorry not Available\")\n",
        "  js=json.dumps(record)\n",
        "fd=open(\"record.json\",'w')\n",
        "fd.write(js)\n",
        "fd.close()\n"
      ],
      "execution_count": 77,
      "outputs": [
        {
          "output_type": "stream",
          "name": "stdout",
          "text": [
            "Enter product id to be purchased: 1004\n",
            "Enter the quantity to be purchased: 12\n",
            "category food\n",
            "name cupcake\n",
            "billing amount 240\n",
            "available quantity 73\n"
          ]
        }
      ]
    },
    {
      "cell_type": "markdown",
      "metadata": {
        "id": "plhcAnEvAC8S"
      },
      "source": [
        "# sales"
      ]
    },
    {
      "cell_type": "code",
      "metadata": {
        "colab": {
          "base_uri": "https://localhost:8080/"
        },
        "id": "mkco-Qeb_tc6",
        "outputId": "7b9ec14e-8d6f-47c7-8a84-81b31857b264"
      },
      "source": [
        "{'id':product_id,'qn':quantity,'amt':billing_amount}"
      ],
      "execution_count": 49,
      "outputs": [
        {
          "output_type": "execute_result",
          "data": {
            "text/plain": [
              "{'amt': 100, 'id': '1008', 'qn': 5}"
            ]
          },
          "metadata": {},
          "execution_count": 49
        }
      ]
    },
    {
      "cell_type": "code",
      "metadata": {
        "id": "0x55zFWYEpsC"
      },
      "source": [
        "uid=2001"
      ],
      "execution_count": 54,
      "outputs": []
    },
    {
      "cell_type": "code",
      "metadata": {
        "id": "IPrwHW6qAqyo"
      },
      "source": [
        "\n",
        "uid=uid+1\n",
        "sales[uid]={'id':product_id,'qn':quantity,'amt':billing_amount}"
      ],
      "execution_count": 78,
      "outputs": []
    },
    {
      "cell_type": "code",
      "metadata": {
        "id": "LUflsOuQBLa_"
      },
      "source": [
        "sale=json.dumps(sales)\n",
        "fd=open('sale.json','a')\n",
        "fd.write(sale)\n",
        "fd.close()"
      ],
      "execution_count": 79,
      "outputs": []
    },
    {
      "cell_type": "code",
      "metadata": {
        "colab": {
          "base_uri": "https://localhost:8080/"
        },
        "id": "XHoFdfwlB-Tn",
        "outputId": "650bd135-d50f-4f27-c667-1d27e3fdc2f9"
      },
      "source": [
        "sales"
      ],
      "execution_count": 80,
      "outputs": [
        {
          "output_type": "execute_result",
          "data": {
            "text/plain": [
              "{2002: {'amt': 100, 'id': '1008', 'qn': 5},\n",
              " 2003: {'amt': 70, 'id': '1010', 'qn': 7},\n",
              " 2004: {'amt': 240, 'id': '1004', 'qn': 3}}"
            ]
          },
          "metadata": {},
          "execution_count": 80
        }
      ]
    },
    {
      "cell_type": "markdown",
      "metadata": {
        "id": "0SgIDkTzc-1L"
      },
      "source": [
        "# code for updating inventory"
      ]
    },
    {
      "cell_type": "code",
      "metadata": {
        "colab": {
          "base_uri": "https://localhost:8080/"
        },
        "id": "XS4hfsN5bZ_W",
        "outputId": "20f9098f-9b09-4a54-dd1b-561b7a69ef18"
      },
      "source": [
        "product_id=input(\"enter product_id to be updated:\")\n",
        "quantity=int(input(\"enter the quantity to be updated:\"))\n",
        "print(\"updated product details\")\n",
        "print(\"name:\",record[product_id]['name'])\n",
        "print(\"old quantity:\",record[product_id]['quantity'])\n",
        "b=record[product_id]['quantity']+quantity\n",
        "record[product_id]['quantity']=b\n",
        "print(\"new quantity:\",record[product_id]['quantity'])\n",
        "print(\"category:\",record[product_id]['category'])\n",
        "\n",
        "js=json.dumps(record)\n",
        "fd=open(\"record.json\",'w')\n",
        "fd.write(js)\n",
        "fd.close()"
      ],
      "execution_count": 70,
      "outputs": [
        {
          "output_type": "stream",
          "name": "stdout",
          "text": [
            "enter product_id to be updated:1005\n",
            "enter the quantity to be updated:12\n",
            "updated product details\n",
            "name: donuts\n",
            "old quantity: 20\n",
            "new quantity: 32\n",
            "category: food\n"
          ]
        }
      ]
    },
    {
      "cell_type": "code",
      "metadata": {
        "id": "uzSpVQWFjtg3"
      },
      "source": [
        ""
      ],
      "execution_count": null,
      "outputs": []
    },
    {
      "cell_type": "code",
      "metadata": {
        "id": "0p1cC6RJkFCT"
      },
      "source": [
        ""
      ],
      "execution_count": null,
      "outputs": []
    }
  ]
}